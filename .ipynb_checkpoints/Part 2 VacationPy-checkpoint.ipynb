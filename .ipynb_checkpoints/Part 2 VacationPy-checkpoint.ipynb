{
 "cells": [
  {
   "cell_type": "markdown",
   "metadata": {},
   "source": [
    "# VacationPy\n",
    "----\n",
    "\n",
    "#### Note\n",
    "* Keep an eye on your API usage. Use https://developers.google.com/maps/reporting/gmp-reporting as reference for how to monitor your usage and billing.\n",
    "\n",
    "* Instructions have been included for each segment. You do not have to follow them exactly, but they are included to help you think through the steps."
   ]
  },
  {
   "cell_type": "code",
   "execution_count": 1,
   "metadata": {},
   "outputs": [],
   "source": [
    "#!pip install citipy"
   ]
  },
  {
   "cell_type": "code",
   "execution_count": 2,
   "metadata": {},
   "outputs": [],
   "source": [
    "# Dependencies and Setup\n",
    "import matplotlib.pyplot as plt\n",
    "import scipy.stats as st\n",
    "import pandas as pd\n",
    "import numpy as np\n",
    "import requests\n",
    "import gmaps\n",
    "import os\n",
    "\n",
    "# Import API key\n",
    "from api_keys import g_key\n",
    "\n",
    "#CSV file path\n",
    "output_data_file = \"Output/cities.csv\""
   ]
  },
  {
   "cell_type": "markdown",
   "metadata": {},
   "source": [
    "### Store Part I results into DataFrame\n",
    "* Load the csv exported in Part I to a DataFrame"
   ]
  },
  {
   "cell_type": "code",
   "execution_count": 3,
   "metadata": {},
   "outputs": [
    {
     "data": {
      "text/html": [
       "<div>\n",
       "<style scoped>\n",
       "    .dataframe tbody tr th:only-of-type {\n",
       "        vertical-align: middle;\n",
       "    }\n",
       "\n",
       "    .dataframe tbody tr th {\n",
       "        vertical-align: top;\n",
       "    }\n",
       "\n",
       "    .dataframe thead th {\n",
       "        text-align: right;\n",
       "    }\n",
       "</style>\n",
       "<table border=\"1\" class=\"dataframe\">\n",
       "  <thead>\n",
       "    <tr style=\"text-align: right;\">\n",
       "      <th></th>\n",
       "      <th>City</th>\n",
       "      <th>Latitude</th>\n",
       "      <th>Longitude</th>\n",
       "      <th>Max Temp (F)</th>\n",
       "      <th>Humidity</th>\n",
       "      <th>Cloudiness</th>\n",
       "      <th>Wind Speed</th>\n",
       "      <th>Country</th>\n",
       "      <th>Date</th>\n",
       "    </tr>\n",
       "  </thead>\n",
       "  <tbody>\n",
       "    <tr>\n",
       "      <th>0</th>\n",
       "      <td>Okulovka</td>\n",
       "      <td>58.4008</td>\n",
       "      <td>33.2908</td>\n",
       "      <td>48.47</td>\n",
       "      <td>52</td>\n",
       "      <td>34</td>\n",
       "      <td>7.72</td>\n",
       "      <td>RU</td>\n",
       "      <td>1618677928</td>\n",
       "    </tr>\n",
       "    <tr>\n",
       "      <th>1</th>\n",
       "      <td>Rikitea</td>\n",
       "      <td>-23.1203</td>\n",
       "      <td>-134.9692</td>\n",
       "      <td>76.86</td>\n",
       "      <td>69</td>\n",
       "      <td>95</td>\n",
       "      <td>8.93</td>\n",
       "      <td>PF</td>\n",
       "      <td>1618677806</td>\n",
       "    </tr>\n",
       "    <tr>\n",
       "      <th>2</th>\n",
       "      <td>Nikolskoye</td>\n",
       "      <td>59.7035</td>\n",
       "      <td>30.7861</td>\n",
       "      <td>53.60</td>\n",
       "      <td>26</td>\n",
       "      <td>0</td>\n",
       "      <td>13.42</td>\n",
       "      <td>RU</td>\n",
       "      <td>1618677928</td>\n",
       "    </tr>\n",
       "    <tr>\n",
       "      <th>3</th>\n",
       "      <td>Aykhal</td>\n",
       "      <td>66.0000</td>\n",
       "      <td>111.5000</td>\n",
       "      <td>8.49</td>\n",
       "      <td>93</td>\n",
       "      <td>100</td>\n",
       "      <td>20.87</td>\n",
       "      <td>RU</td>\n",
       "      <td>1618677929</td>\n",
       "    </tr>\n",
       "    <tr>\n",
       "      <th>4</th>\n",
       "      <td>East London</td>\n",
       "      <td>-33.0153</td>\n",
       "      <td>27.9116</td>\n",
       "      <td>66.20</td>\n",
       "      <td>72</td>\n",
       "      <td>0</td>\n",
       "      <td>11.50</td>\n",
       "      <td>ZA</td>\n",
       "      <td>1618677757</td>\n",
       "    </tr>\n",
       "    <tr>\n",
       "      <th>...</th>\n",
       "      <td>...</td>\n",
       "      <td>...</td>\n",
       "      <td>...</td>\n",
       "      <td>...</td>\n",
       "      <td>...</td>\n",
       "      <td>...</td>\n",
       "      <td>...</td>\n",
       "      <td>...</td>\n",
       "      <td>...</td>\n",
       "    </tr>\n",
       "    <tr>\n",
       "      <th>539</th>\n",
       "      <td>Korhogo</td>\n",
       "      <td>9.4500</td>\n",
       "      <td>-5.6333</td>\n",
       "      <td>83.52</td>\n",
       "      <td>49</td>\n",
       "      <td>100</td>\n",
       "      <td>3.58</td>\n",
       "      <td>CI</td>\n",
       "      <td>1618678086</td>\n",
       "    </tr>\n",
       "    <tr>\n",
       "      <th>540</th>\n",
       "      <td>Abu Kamal</td>\n",
       "      <td>34.4506</td>\n",
       "      <td>40.9171</td>\n",
       "      <td>85.10</td>\n",
       "      <td>15</td>\n",
       "      <td>4</td>\n",
       "      <td>5.79</td>\n",
       "      <td>SY</td>\n",
       "      <td>1618678086</td>\n",
       "    </tr>\n",
       "    <tr>\n",
       "      <th>541</th>\n",
       "      <td>Nīlēshwar</td>\n",
       "      <td>12.2500</td>\n",
       "      <td>75.1000</td>\n",
       "      <td>83.43</td>\n",
       "      <td>80</td>\n",
       "      <td>32</td>\n",
       "      <td>7.58</td>\n",
       "      <td>IN</td>\n",
       "      <td>1618678086</td>\n",
       "    </tr>\n",
       "    <tr>\n",
       "      <th>542</th>\n",
       "      <td>Alto Araguaia</td>\n",
       "      <td>-17.3147</td>\n",
       "      <td>-53.2153</td>\n",
       "      <td>85.17</td>\n",
       "      <td>46</td>\n",
       "      <td>1</td>\n",
       "      <td>4.92</td>\n",
       "      <td>BR</td>\n",
       "      <td>1618678087</td>\n",
       "    </tr>\n",
       "    <tr>\n",
       "      <th>543</th>\n",
       "      <td>Saint-Pierre</td>\n",
       "      <td>-21.3393</td>\n",
       "      <td>55.4781</td>\n",
       "      <td>77.00</td>\n",
       "      <td>78</td>\n",
       "      <td>90</td>\n",
       "      <td>9.22</td>\n",
       "      <td>RE</td>\n",
       "      <td>1618678087</td>\n",
       "    </tr>\n",
       "  </tbody>\n",
       "</table>\n",
       "<p>544 rows × 9 columns</p>\n",
       "</div>"
      ],
      "text/plain": [
       "              City  Latitude  Longitude  Max Temp (F)  Humidity  Cloudiness  \\\n",
       "0         Okulovka   58.4008    33.2908         48.47        52          34   \n",
       "1          Rikitea  -23.1203  -134.9692         76.86        69          95   \n",
       "2       Nikolskoye   59.7035    30.7861         53.60        26           0   \n",
       "3           Aykhal   66.0000   111.5000          8.49        93         100   \n",
       "4      East London  -33.0153    27.9116         66.20        72           0   \n",
       "..             ...       ...        ...           ...       ...         ...   \n",
       "539        Korhogo    9.4500    -5.6333         83.52        49         100   \n",
       "540      Abu Kamal   34.4506    40.9171         85.10        15           4   \n",
       "541      Nīlēshwar   12.2500    75.1000         83.43        80          32   \n",
       "542  Alto Araguaia  -17.3147   -53.2153         85.17        46           1   \n",
       "543   Saint-Pierre  -21.3393    55.4781         77.00        78          90   \n",
       "\n",
       "     Wind Speed Country        Date  \n",
       "0          7.72      RU  1618677928  \n",
       "1          8.93      PF  1618677806  \n",
       "2         13.42      RU  1618677928  \n",
       "3         20.87      RU  1618677929  \n",
       "4         11.50      ZA  1618677757  \n",
       "..          ...     ...         ...  \n",
       "539        3.58      CI  1618678086  \n",
       "540        5.79      SY  1618678086  \n",
       "541        7.58      IN  1618678086  \n",
       "542        4.92      BR  1618678087  \n",
       "543        9.22      RE  1618678087  \n",
       "\n",
       "[544 rows x 9 columns]"
      ]
     },
     "execution_count": 3,
     "metadata": {},
     "output_type": "execute_result"
    }
   ],
   "source": [
    "cities_df = pd.read_csv(output_data_file)\n",
    "cities_df"
   ]
  },
  {
   "cell_type": "markdown",
   "metadata": {},
   "source": [
    "### Humidity Heatmap\n",
    "* Configure gmaps.\n",
    "* Use the Lat and Lng as locations and Humidity as the weight.\n",
    "* Add Heatmap layer to map."
   ]
  },
  {
   "cell_type": "code",
   "execution_count": 4,
   "metadata": {},
   "outputs": [],
   "source": [
    "# Access maps with unique API key\n",
    "gmaps.configure(api_key = g_key)"
   ]
  },
  {
   "cell_type": "code",
   "execution_count": 7,
   "metadata": {
    "scrolled": false
   },
   "outputs": [
    {
     "data": {
      "application/vnd.jupyter.widget-view+json": {
       "model_id": "87d21a475f1f432887a56169c9cf247c",
       "version_major": 2,
       "version_minor": 0
      },
      "text/plain": [
       "Figure(layout=FigureLayout(height='420px'))"
      ]
     },
     "metadata": {},
     "output_type": "display_data"
    }
   ],
   "source": [
    "# Create base-form map as foundations\n",
    "fig = gmaps.figure()\n",
    "\n",
    "# Extract locations of each city from DataFrame\n",
    "locations = cities_df[[\"Latitude\", \"Longitude\"]]\n",
    "#locations\n",
    "\n",
    "# Extract humidity for each city\n",
    "humidity = cities_df[\"Humidity\"].astype(float)\n",
    "#humidity\n",
    "\n",
    "# Add heat layer\n",
    "heat_layer = gmaps.heatmap_layer(locations, weights=humidity, \n",
    "                                 dissipating=False, max_intensity=10,\n",
    "                                 point_radius=1)\n",
    "\n",
    "fig.add_layer(heat_layer)\n",
    "\n",
    "fig\n",
    "#fig.save(\"Images/humidity-heat-map.png\")"
   ]
  },
  {
   "cell_type": "markdown",
   "metadata": {},
   "source": [
    "### Create new DataFrame fitting weather criteria\n",
    "* Narrow down the cities to fit weather conditions.\n",
    "* Drop any rows will null values."
   ]
  },
  {
   "cell_type": "code",
   "execution_count": null,
   "metadata": {},
   "outputs": [],
   "source": []
  },
  {
   "cell_type": "markdown",
   "metadata": {},
   "source": [
    "### Hotel Map\n",
    "* Store into variable named `hotel_df`.\n",
    "* Add a \"Hotel Name\" column to the DataFrame.\n",
    "* Set parameters to search for hotels with 5000 meters.\n",
    "* Hit the Google Places API for each city's coordinates.\n",
    "* Store the first Hotel result into the DataFrame.\n",
    "* Plot markers on top of the heatmap."
   ]
  },
  {
   "cell_type": "code",
   "execution_count": null,
   "metadata": {},
   "outputs": [],
   "source": []
  },
  {
   "cell_type": "code",
   "execution_count": null,
   "metadata": {},
   "outputs": [],
   "source": []
  },
  {
   "cell_type": "code",
   "execution_count": 6,
   "metadata": {},
   "outputs": [
    {
     "ename": "SyntaxError",
     "evalue": "invalid syntax (<ipython-input-6-d75abb78032b>, line 4)",
     "output_type": "error",
     "traceback": [
      "\u001b[1;36m  File \u001b[1;32m\"<ipython-input-6-d75abb78032b>\"\u001b[1;36m, line \u001b[1;32m4\u001b[0m\n\u001b[1;33m    info_box_template =\u001b[0m\n\u001b[1;37m                        ^\u001b[0m\n\u001b[1;31mSyntaxError\u001b[0m\u001b[1;31m:\u001b[0m invalid syntax\n"
     ]
    }
   ],
   "source": [
    "# NOTE: Do not change any of the code in this cell\n",
    "\n",
    "# Using the template add the hotel marks to the heatmap\n",
    "info_box_template = \n",
    "\"\"\"\n",
    "<dl>\n",
    "<dt>Name</dt><dd>{Hotel Name}</dd>\n",
    "<dt>City</dt><dd>{City}</dd>\n",
    "<dt>Country</dt><dd>{Country}</dd>\n",
    "</dl>\n",
    "\"\"\"\n",
    "# Store the DataFrame Row\n",
    "# NOTE: be sure to update with your DataFrame name\n",
    "hotel_info = [info_box_template.format(**row) for index, row in hotel_df.iterrows()]\n",
    "locations = hotel_df[[\"Lat\", \"Lng\"]]"
   ]
  },
  {
   "cell_type": "code",
   "execution_count": null,
   "metadata": {},
   "outputs": [],
   "source": [
    "# Add marker layer ontop of heat map\n",
    "\n",
    "\n",
    "# Display figure\n"
   ]
  },
  {
   "cell_type": "code",
   "execution_count": null,
   "metadata": {},
   "outputs": [],
   "source": []
  }
 ],
 "metadata": {
  "kernelspec": {
   "display_name": "Python 3",
   "language": "python",
   "name": "python3"
  },
  "language_info": {
   "codemirror_mode": {
    "name": "ipython",
    "version": 3
   },
   "file_extension": ".py",
   "mimetype": "text/x-python",
   "name": "python",
   "nbconvert_exporter": "python",
   "pygments_lexer": "ipython3",
   "version": "3.8.5"
  },
  "latex_envs": {
   "LaTeX_envs_menu_present": true,
   "autoclose": false,
   "autocomplete": true,
   "bibliofile": "biblio.bib",
   "cite_by": "apalike",
   "current_citInitial": 1,
   "eqLabelWithNumbers": true,
   "eqNumInitial": 1,
   "hotkeys": {
    "equation": "Ctrl-E",
    "itemize": "Ctrl-I"
   },
   "labels_anchors": false,
   "latex_user_defs": false,
   "report_style_numbering": false,
   "user_envs_cfg": false
  }
 },
 "nbformat": 4,
 "nbformat_minor": 4
}
